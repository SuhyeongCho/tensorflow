{
 "cells": [
  {
   "cell_type": "code",
   "execution_count": 1,
   "metadata": {},
   "outputs": [],
   "source": [
    "import tensorflow as tf"
   ]
  },
  {
   "cell_type": "code",
   "execution_count": 2,
   "metadata": {},
   "outputs": [],
   "source": [
    "graph = tf.Graph()"
   ]
  },
  {
   "cell_type": "code",
   "execution_count": 19,
   "metadata": {},
   "outputs": [],
   "source": [
    "with graph.as_default():\n",
    "    with tf.name_scope(\"Variabels\"):\n",
    "        global_step = tf.Variable(0,dtype=tf.int32,trainable=False,name=\"global_step\")\n",
    "        total_output = tf.Variable(0.0,dtype=tf.float32,trainable=False,name=\"total_output\")\n",
    "        \n",
    "    with tf.name_scope(\"Transformation\"):\n",
    "        with tf.name_scope(\"input\"):\n",
    "            a = tf.placeholder(tf.float32,shape=[None],name=\"input_placeholder_a\")\n",
    "\n",
    "        with tf.name_scope(\"intermediate_layer\"):\n",
    "            b = tf.reduce_prod(a,name=\"prod\")\n",
    "            c = tf.reduce_sum(a,name=\"sum\")\n",
    "                \n",
    "        with tf.name_scope(\"output\"):\n",
    "            output = tf.add(b,c,name=\"output\")\n",
    "            \n",
    "    with tf.name_scope(\"update\"):\n",
    "            update_total = total_output.assign_add(output)\n",
    "            increment_step = global_step.assign_add(1)\n",
    "                \n",
    "    with tf.name_scope(\"summaries\"):\n",
    "            avg = tf.div(update_total,tf.cast(increment_step,tf.float32),name=\"average\")\n",
    "            \n",
    "            tf.summary.scalar(\"output_summary\",output,b'Output')\n",
    "            tf.summary.scalar(\"total_summary\",update_total,b'Sum of outputs over time')\n",
    "            tf.summary.scalar(\"average_summary\",avg,b'Average of ouputs over time')\n",
    "        \n",
    "    with tf.name_scope(\"global_ops\"):\n",
    "            init = tf.global_variables_initializer()\n",
    "            merged_summaries = tf.summary.merge_all()"
   ]
  },
  {
   "cell_type": "code",
   "execution_count": 20,
   "metadata": {},
   "outputs": [],
   "source": [
    "sess = tf.Session(graph=graph)\n",
    "writer = tf.summary.FileWriter('./improved_graph',graph)\n",
    "sess.run(init)"
   ]
  },
  {
   "cell_type": "code",
   "execution_count": 31,
   "metadata": {},
   "outputs": [],
   "source": [
    "def run_graph(input_tensor):\n",
    "    input_dict={a:input_tensor}\n",
    "    _,step = sess.run([output,increment_step], feed_dict=input_dict)\n",
    "#     writer.add_summary(summary,gobal_step=step)"
   ]
  },
  {
   "cell_type": "code",
   "execution_count": 32,
   "metadata": {},
   "outputs": [],
   "source": [
    "run_graph([3,5])\n",
    "run_graph([3,1,3,3])\n",
    "run_graph([8])"
   ]
  },
  {
   "cell_type": "code",
   "execution_count": null,
   "metadata": {},
   "outputs": [],
   "source": [
    "writer.flush()\n",
    "writer.close()\n",
    "sess.close()"
   ]
  }
 ],
 "metadata": {
  "kernelspec": {
   "display_name": "Python 3",
   "language": "python",
   "name": "python3"
  },
  "language_info": {
   "codemirror_mode": {
    "name": "ipython",
    "version": 3
   },
   "file_extension": ".py",
   "mimetype": "text/x-python",
   "name": "python",
   "nbconvert_exporter": "python",
   "pygments_lexer": "ipython3",
   "version": "3.7.0"
  }
 },
 "nbformat": 4,
 "nbformat_minor": 2
}
