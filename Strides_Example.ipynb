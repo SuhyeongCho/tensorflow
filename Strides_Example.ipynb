{
 "cells": [
  {
   "cell_type": "code",
   "execution_count": 1,
   "metadata": {},
   "outputs": [],
   "source": [
    "import tensorflow as tf"
   ]
  },
  {
   "cell_type": "code",
   "execution_count": 3,
   "metadata": {},
   "outputs": [],
   "source": [
    "input_batch = tf.constant([\n",
    "    [\n",
    "        [[0.0],[1.0],[2.0],[3.0],[4.0],[5.0]],\n",
    "        [[0.1],[1.1],[2.1],[3.1],[4.1],[5.1]],\n",
    "        [[0.2],[1.2],[2.2],[3.2],[4.2],[5.2]],\n",
    "        [[0.3],[1.3],[2.3],[3.3],[4.3],[5.3]],\n",
    "        [[0.4],[1.4],[2.4],[3.4],[4.4],[5.4]],\n",
    "        [[0.5],[1.5],[2.5],[3.5],[4.5],[5.5]]\n",
    "    ]\n",
    "])"
   ]
  },
  {
   "cell_type": "code",
   "execution_count": 4,
   "metadata": {},
   "outputs": [],
   "source": [
    "kernel = tf.constant([\n",
    "    [[[0.0]],[[0.5]],[[0.0]]],\n",
    "    [[[0.0]],[[1.0]],[[0.0]]],\n",
    "    [[[0.0]],[[0.5]],[[0.0]]]\n",
    "])"
   ]
  },
  {
   "cell_type": "code",
   "execution_count": 5,
   "metadata": {},
   "outputs": [],
   "source": [
    "conv2d = tf.nn.conv2d(input_batch,kernel,strides=[1,3,3,1],padding='SAME')"
   ]
  },
  {
   "cell_type": "code",
   "execution_count": 9,
   "metadata": {},
   "outputs": [],
   "source": [
    "sess = tf.Session()"
   ]
  },
  {
   "cell_type": "code",
   "execution_count": 10,
   "metadata": {},
   "outputs": [
    {
     "data": {
      "text/plain": [
       "array([[[[2.2],\n",
       "         [8.2]],\n",
       "\n",
       "        [[2.8],\n",
       "         [8.8]]]], dtype=float32)"
      ]
     },
     "execution_count": 10,
     "metadata": {},
     "output_type": "execute_result"
    }
   ],
   "source": [
    "sess.run(conv2d)"
   ]
  },
  {
   "cell_type": "code",
   "execution_count": null,
   "metadata": {},
   "outputs": [],
   "source": []
  }
 ],
 "metadata": {
  "kernelspec": {
   "display_name": "Python 3",
   "language": "python",
   "name": "python3"
  },
  "language_info": {
   "codemirror_mode": {
    "name": "ipython",
    "version": 3
   },
   "file_extension": ".py",
   "mimetype": "text/x-python",
   "name": "python",
   "nbconvert_exporter": "python",
   "pygments_lexer": "ipython3",
   "version": "3.7.0"
  }
 },
 "nbformat": 4,
 "nbformat_minor": 2
}
