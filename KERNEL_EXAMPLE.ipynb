{
 "cells": [
  {
   "cell_type": "code",
   "execution_count": 1,
   "metadata": {},
   "outputs": [],
   "source": [
    "import tensorflow as tf"
   ]
  },
  {
   "cell_type": "code",
   "execution_count": 2,
   "metadata": {},
   "outputs": [],
   "source": [
    "kernel = tf.constant([\n",
    "    [\n",
    "        [[-1.,0.,0.],[0.,-1.,0.],[0.,0.,-1]],\n",
    "        [[-1.,0.,0.],[0.,-1.,0.],[0.,0.,-1.]],\n",
    "        [[-1.,0.,0.],[0.,-1.,0.],[0.,0.,-1.]],\n",
    "    ],\n",
    "    [\n",
    "        [[-1.,0.,0.],[0.,-1.,0.],[0.,0.,-1]],\n",
    "        [[8.,0.,0.],[0.,8.,0.],[0.,0.,8.]],\n",
    "        [[-1.,0.,0.],[0.,-1.,0.],[0.,0.,-1.]],\n",
    "    ],\n",
    "    [\n",
    "        [[-1.,0.,0.],[0.,-1.,0.],[0.,0.,-1]],\n",
    "        [[-1.,0.,0.],[0.,-1.,0.],[0.,0.,-1.]],\n",
    "        [[-1.,0.,0.],[0.,-1.,0.],[0.,0.,-1.]],\n",
    "    ]\n",
    "])"
   ]
  },
  {
   "cell_type": "code",
   "execution_count": 9,
   "metadata": {},
   "outputs": [],
   "source": [
    "image_filename = \"./MyDog.jpg\"\n",
    "filename_queue = tf.train.string_input_producer(tf.train.match_filenames_once(image_filename))\n",
    "\n",
    "image_reader = tf.WholeFileReader()\n",
    "_,image_file = image_reader.read(filename_queue)\n",
    "image = tf.image.decode_jpeg(image_file)\n",
    "image = tf.cast(image, tf.float32)"
   ]
  },
  {
   "cell_type": "code",
   "execution_count": 10,
   "metadata": {},
   "outputs": [],
   "source": [
    "sess = tf.Session()"
   ]
  },
  {
   "cell_type": "code",
   "execution_count": 12,
   "metadata": {},
   "outputs": [],
   "source": [
    "conv2d = tf.nn.conv2d([image],kernel,strides=[1,1,1,1],padding=\"SAME\")"
   ]
  },
  {
   "cell_type": "code",
   "execution_count": null,
   "metadata": {},
   "outputs": [],
   "source": [
    "activation_map = sess.run(tf.minimum(tf.nn.relu(conv2d),255))"
   ]
  },
  {
   "cell_type": "code",
   "execution_count": null,
   "metadata": {},
   "outputs": [],
   "source": []
  }
 ],
 "metadata": {
  "kernelspec": {
   "display_name": "Python 3",
   "language": "python",
   "name": "python3"
  },
  "language_info": {
   "codemirror_mode": {
    "name": "ipython",
    "version": 3
   },
   "file_extension": ".py",
   "mimetype": "text/x-python",
   "name": "python",
   "nbconvert_exporter": "python",
   "pygments_lexer": "ipython3",
   "version": "3.7.0"
  }
 },
 "nbformat": 4,
 "nbformat_minor": 2
}
