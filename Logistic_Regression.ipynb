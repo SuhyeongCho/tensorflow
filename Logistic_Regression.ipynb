{
 "cells": [
  {
   "cell_type": "code",
   "execution_count": 1,
   "metadata": {},
   "outputs": [],
   "source": [
    "import tensorflow as tf"
   ]
  },
  {
   "cell_type": "code",
   "execution_count": 2,
   "metadata": {},
   "outputs": [],
   "source": [
    "W = tf.Variable(tf.zeros([5,1]),name=\"weights\")\n",
    "b = tf.Variable(0.,name=\"bias\")"
   ]
  },
  {
   "cell_type": "code",
   "execution_count": 3,
   "metadata": {},
   "outputs": [],
   "source": [
    "def combine_inputs(X):\n",
    "    return tf.matmul(X,W) + b;"
   ]
  },
  {
   "cell_type": "code",
   "execution_count": 4,
   "metadata": {},
   "outputs": [],
   "source": [
    "def interference(X):\n",
    "    return tf.sigmoid(combine_inputs(X))"
   ]
  },
  {
   "cell_type": "code",
   "execution_count": 5,
   "metadata": {},
   "outputs": [],
   "source": [
    "def loss(X,Y):\n",
    "    return tf.reduce_mean(tf.nn.sigmoid_cross_entropy_with_logits(combine_inputs(X),Y))"
   ]
  },
  {
   "cell_type": "code",
   "execution_count": 6,
   "metadata": {},
   "outputs": [],
   "source": [
    "def read_csv(batch_size,file_name, record_default):\n",
    "    filename_queue = tf.train.string_input_producer([os.path.dirname(__file__) + \"/\" + file_name])\n",
    "    reader = tf.TextLineReader(skip_header_lines = 1)\n",
    "    key, value = reader.read(filename_queue)\n",
    "    \n",
    "    decoded = tf.decode_csv(value,record_defaults=record_defaults)\n",
    "    \n",
    "    return tf.train.shuffle_batch(decoded,batch_size=batch_size,capacity=batch_size*50,min_after_dequeue=batch_size)"
   ]
  },
  {
   "cell_type": "code",
   "execution_count": 7,
   "metadata": {},
   "outputs": [],
   "source": [
    "def inputs():\n",
    "    passenger_id,survived,pclass,name,sex,age,sibsp,parch,ticket,fare,cabin,embarked = read_csv(100,\"train.csv\",[[0.0],[0.0],[0],[\"\"],[\"\"],[0.0],[0.0],[0.0],[\"\"],[0.0],[\"\"],[\"\"]])\n",
    "    \n",
    "    is_first_class = tf.to_float(tf.equal(pclass,[1]))\n",
    "    is_second_class = tf.to_float(tf.equal(pclass,[2]))\n",
    "    is_third_class = tf.to_float(tf.equal(pclass,[3]))\n",
    "    \n",
    "    gender = tf.to_float(tf.equal(sex,[\"female\"]))\n",
    "    \n",
    "    features = tf.transpose(tf.pack([is_first_class,is_second_class,is_third_class,gender,age]))\n",
    "    survived = tf.reshape(survived,[100,1])\n",
    "    \n",
    "    return features,survived"
   ]
  },
  {
   "cell_type": "code",
   "execution_count": 8,
   "metadata": {},
   "outputs": [],
   "source": [
    "def train(total_loss):\n",
    "    learning_rate = 0.01\n",
    "    return tf.train.GradientDescentOptimizer(learning_rate).minimize(total_loss)"
   ]
  },
  {
   "cell_type": "code",
   "execution_count": 9,
   "metadata": {},
   "outputs": [
    {
     "ename": "SyntaxError",
     "evalue": "invalid syntax (<ipython-input-9-e517fa311a78>, line 4)",
     "output_type": "error",
     "traceback": [
      "\u001b[0;36m  File \u001b[0;32m\"<ipython-input-9-e517fa311a78>\"\u001b[0;36m, line \u001b[0;32m4\u001b[0m\n\u001b[0;31m    print sess.run(tf.reduce_mean(tf.cast(tf.equal(predicted,Y),tf.float32)))\u001b[0m\n\u001b[0m             ^\u001b[0m\n\u001b[0;31mSyntaxError\u001b[0m\u001b[0;31m:\u001b[0m invalid syntax\n"
     ]
    }
   ],
   "source": [
    "def evaluate(sess,X,Y):\n",
    "    predicted = tf.cast(interference(X) > 0.5, tf.float32)\n",
    "    \n",
    "    print sess.run(tf.reduce_mean(tf.cast(tf.equal(predicted,Y),tf.float32)))"
   ]
  },
  {
   "cell_type": "code",
   "execution_count": null,
   "metadata": {},
   "outputs": [],
   "source": []
  }
 ],
 "metadata": {
  "kernelspec": {
   "display_name": "Python 3",
   "language": "python",
   "name": "python3"
  },
  "language_info": {
   "codemirror_mode": {
    "name": "ipython",
    "version": 3
   },
   "file_extension": ".py",
   "mimetype": "text/x-python",
   "name": "python",
   "nbconvert_exporter": "python",
   "pygments_lexer": "ipython3",
   "version": "3.7.0"
  }
 },
 "nbformat": 4,
 "nbformat_minor": 2
}
