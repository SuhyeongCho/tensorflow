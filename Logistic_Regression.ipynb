{
 "cells": [
  {
   "cell_type": "code",
   "execution_count": 1,
   "metadata": {},
   "outputs": [],
   "source": [
    "import tensorflow as tf\n",
    "import os"
   ]
  },
  {
   "cell_type": "code",
   "execution_count": 2,
   "metadata": {},
   "outputs": [],
   "source": [
    "W = tf.Variable(tf.zeros([5,1]),name=\"weights\")\n",
    "b = tf.Variable(0.,name=\"bias\")"
   ]
  },
  {
   "cell_type": "code",
   "execution_count": 3,
   "metadata": {},
   "outputs": [],
   "source": [
    "def combine_inputs(X):\n",
    "    return tf.matmul(X,W) + b;"
   ]
  },
  {
   "cell_type": "code",
   "execution_count": 4,
   "metadata": {},
   "outputs": [],
   "source": [
    "def interference(X):\n",
    "    return tf.sigmoid(combine_inputs(X))"
   ]
  },
  {
   "cell_type": "code",
   "execution_count": 5,
   "metadata": {},
   "outputs": [],
   "source": [
    "def loss(X,Y):\n",
    "    return tf.reduce_mean(tf.nn.sigmoid_cross_entropy_with_logits(labels=combine_inputs(X),logits=Y))"
   ]
  },
  {
   "cell_type": "code",
   "execution_count": 6,
   "metadata": {},
   "outputs": [],
   "source": [
    "def read_csv(batch_size,file_name, record_defaults):\n",
    "    filename_queue = tf.train.string_input_producer([os.path.dirname(\"__file__\") + \"/Users/suhyeongcho/\" + file_name])\n",
    "    reader = tf.TextLineReader(skip_header_lines = 1)\n",
    "    key, value = reader.read(filename_queue)\n",
    "    \n",
    "    decoded = tf.decode_csv(value,record_defaults=record_defaults)\n",
    "    \n",
    "    return tf.train.shuffle_batch(decoded,batch_size=batch_size,capacity=batch_size*50,min_after_dequeue=batch_size)"
   ]
  },
  {
   "cell_type": "code",
   "execution_count": 7,
   "metadata": {},
   "outputs": [],
   "source": [
    "def inputs():\n",
    "    passenger_id,survived,pclass,name,sex,age,sibsp,parch,ticket,fare,cabin,embarked = read_csv(100,\"train.csv\",[[0.0],[0.0],[0],[\"\"],[\"\"],[0.0],[0.0],[0.0],[\"\"],[0.0],[\"\"],[\"\"]])\n",
    "    \n",
    "    is_first_class = tf.to_float(tf.equal(pclass,[1]))\n",
    "    is_second_class = tf.to_float(tf.equal(pclass,[2]))\n",
    "    is_third_class = tf.to_float(tf.equal(pclass,[3]))\n",
    "    \n",
    "    gender = tf.to_float(tf.equal(sex,[\"female\"]))\n",
    "    \n",
    "    features = tf.transpose(tf.stack([is_first_class,is_second_class,is_third_class,gender,age]))\n",
    "    survived = tf.reshape(survived,[100,1])\n",
    "    \n",
    "    return features,survived"
   ]
  },
  {
   "cell_type": "code",
   "execution_count": 8,
   "metadata": {},
   "outputs": [],
   "source": [
    "def train(total_loss):\n",
    "    learning_rate = 0.01\n",
    "    return tf.train.GradientDescentOptimizer(learning_rate).minimize(total_loss)"
   ]
  },
  {
   "cell_type": "code",
   "execution_count": 9,
   "metadata": {},
   "outputs": [],
   "source": [
    "def evaluate(sess,X,Y):\n",
    "    predicted = tf.cast(interference(X) > 0.5, tf.float32)\n",
    "    \n",
    "    print(sess.run(tf.reduce_mean(tf.cast(tf.equal(predicted,Y),tf.float32))))"
   ]
  },
  {
   "cell_type": "code",
   "execution_count": 15,
   "metadata": {},
   "outputs": [
    {
     "name": "stdout",
     "output_type": "stream",
     "text": [
      "loss :  [0.38171607]\n",
      "loss :  [-8.257179]\n",
      "loss :  [-23.042315]\n",
      "loss :  [-21.998028]\n",
      "loss :  [-25.212051]\n",
      "loss :  [-41.931725]\n",
      "loss :  [-77.137794]\n",
      "loss :  [-43.682335]\n",
      "loss :  [-51.797993]\n",
      "loss :  [-94.33719]\n",
      "loss :  [-96.6888]\n",
      "loss :  [-86.28653]\n",
      "loss :  [-103.04562]\n",
      "loss :  [-76.58591]\n",
      "loss :  [-121.12936]\n",
      "loss :  [-121.10418]\n",
      "loss :  [-149.81291]\n",
      "loss :  [-87.44158]\n",
      "loss :  [-154.61986]\n",
      "loss :  [-168.48415]\n",
      "loss :  [-156.41003]\n",
      "loss :  [-136.92178]\n",
      "loss :  [-181.62753]\n",
      "loss :  [-235.26535]\n",
      "loss :  [-178.49307]\n",
      "loss :  [-175.19508]\n",
      "loss :  [-210.30003]\n",
      "loss :  [-261.21332]\n",
      "loss :  [-223.45883]\n",
      "loss :  [-154.97787]\n",
      "loss :  [-222.91188]\n",
      "loss :  [-337.79907]\n",
      "loss :  [-276.92426]\n",
      "loss :  [-264.1828]\n",
      "loss :  [-271.0176]\n",
      "loss :  [-352.429]\n",
      "loss :  [-457.20483]\n",
      "loss :  [-296.40628]\n",
      "loss :  [-253.77727]\n",
      "loss :  [-320.42615]\n",
      "loss :  [-416.29962]\n",
      "loss :  [-398.7914]\n",
      "loss :  [-266.67416]\n",
      "loss :  [-374.18677]\n",
      "loss :  [-368.7137]\n",
      "loss :  [-425.23776]\n",
      "loss :  [-403.92673]\n",
      "loss :  [-253.10945]\n",
      "loss :  [-376.15475]\n",
      "loss :  [-433.38055]\n",
      "loss :  [-611.18304]\n",
      "loss :  [-328.52478]\n",
      "loss :  [-441.04422]\n",
      "loss :  [-555.3681]\n",
      "loss :  [-448.29367]\n",
      "loss :  [-333.48328]\n",
      "loss :  [-513.00214]\n",
      "loss :  [-571.9991]\n",
      "loss :  [-560.1331]\n",
      "loss :  [-472.77234]\n",
      "loss :  [-563.0347]\n",
      "loss :  [-487.9092]\n",
      "loss :  [-498.29648]\n",
      "loss :  [-656.39685]\n",
      "loss :  [-571.32806]\n",
      "loss :  [-619.442]\n",
      "loss :  [-683.90424]\n",
      "loss :  [-544.2713]\n",
      "loss :  [-495.67233]\n",
      "loss :  [-650.5014]\n",
      "loss :  [-726.9082]\n",
      "loss :  [-634.0875]\n",
      "loss :  [-478.8084]\n",
      "loss :  [-667.2539]\n",
      "loss :  [-764.07056]\n",
      "loss :  [-724.6736]\n",
      "loss :  [-599.5335]\n",
      "loss :  [-604.6114]\n",
      "loss :  [-692.209]\n",
      "loss :  [-692.1696]\n",
      "loss :  [-731.5109]\n",
      "loss :  [-603.8289]\n",
      "loss :  [-782.3689]\n",
      "loss :  [-875.43445]\n",
      "loss :  [-826.2126]\n",
      "loss :  [-636.6943]\n",
      "loss :  [-741.96564]\n",
      "loss :  [-945.1326]\n",
      "loss :  [-780.7354]\n",
      "loss :  [-490.2236]\n",
      "loss :  [-795.60345]\n",
      "loss :  [-667.3067]\n",
      "loss :  [-734.97095]\n",
      "loss :  [-696.75275]\n",
      "loss :  [-832.9408]\n",
      "loss :  [-889.41]\n",
      "loss :  [-775.97205]\n",
      "loss :  [-703.97626]\n",
      "loss :  [-692.1934]\n",
      "loss :  [-786.64514]\n",
      "0.4\n"
     ]
    }
   ],
   "source": [
    "with tf.Session() as sess:\n",
    "    \n",
    "    tf.global_variables_initializer().run()\n",
    "    \n",
    "    X, Y = inputs()\n",
    "    \n",
    "    total_loss = loss(X,Y)\n",
    "    train_op = train(total_loss)\n",
    "    \n",
    "    coord = tf.train.Coordinator()\n",
    "    threads = tf.train.start_queue_runners(sess=sess,coord=coord)\n",
    "    \n",
    "    training_steps = 1000\n",
    "    \n",
    "    for step in range(training_steps):\n",
    "        sess.run([train_op])\n",
    "        if step % 10 == 0:\n",
    "            print(\"loss : \", sess.run([total_loss]))\n",
    "            \n",
    "    evaluate(sess,X,Y)\n",
    "    \n",
    "    coord.request_stop()\n",
    "    coord.join(threads)\n",
    "    sess.close()"
   ]
  },
  {
   "cell_type": "code",
   "execution_count": null,
   "metadata": {},
   "outputs": [],
   "source": []
  }
 ],
 "metadata": {
  "kernelspec": {
   "display_name": "Python 3",
   "language": "python",
   "name": "python3"
  },
  "language_info": {
   "codemirror_mode": {
    "name": "ipython",
    "version": 3
   },
   "file_extension": ".py",
   "mimetype": "text/x-python",
   "name": "python",
   "nbconvert_exporter": "python",
   "pygments_lexer": "ipython3",
   "version": "3.7.0"
  }
 },
 "nbformat": 4,
 "nbformat_minor": 2
}
