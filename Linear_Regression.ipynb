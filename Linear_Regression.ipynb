{
 "cells": [
  {
   "cell_type": "code",
   "execution_count": 1,
   "metadata": {},
   "outputs": [],
   "source": [
    "import tensorflow as tf"
   ]
  },
  {
   "cell_type": "code",
   "execution_count": 2,
   "metadata": {},
   "outputs": [],
   "source": [
    "W = tf.Variable(tf.zeros([2,1]),name=\"weights\")\n",
    "b = tf.Variable(0.,name=\"bias\")"
   ]
  },
  {
   "cell_type": "code",
   "execution_count": 3,
   "metadata": {},
   "outputs": [],
   "source": [
    "def interference(X):\n",
    "    return tf.matmul(X,W)+b"
   ]
  },
  {
   "cell_type": "code",
   "execution_count": 4,
   "metadata": {},
   "outputs": [],
   "source": [
    "def loss(X,Y):\n",
    "    Y_predicted = interference(X)\n",
    "    return tf.reduce_sum(tf.squared_difference(Y,Y_predicted))"
   ]
  },
  {
   "cell_type": "code",
   "execution_count": 5,
   "metadata": {},
   "outputs": [],
   "source": [
    "def inputs():\n",
    "    weight_age = [[84,46],[73,20],[65,52],[70,30],[76,57],[69,25],[63,28],[72,36],[79,57],[75,44],[27,24],[89,31],[65,52],[57,23],[59,60],[69,48],[69,34],[79,51],[75,50],[82,34],[59,46],[67,23],[85,37],[55,40],[63,30]]\n",
    "    \n",
    "    blood_fat_content = [354,190,405,263,451,302,288,385,402,365,209,290,346,254,395,434,220,374,308,220,311,181,274,303,244]\n",
    "    \n",
    "    return tf.to_float(weight_age), tf.to_float(blood_fat_content)"
   ]
  },
  {
   "cell_type": "code",
   "execution_count": 6,
   "metadata": {},
   "outputs": [],
   "source": [
    "def train(total_loss):\n",
    "    learning_rate = 0.0000001\n",
    "    return tf.train.GradientDescentOptimizer(learning_rate).minimize(total_loss)"
   ]
  },
  {
   "cell_type": "code",
   "execution_count": 8,
   "metadata": {},
   "outputs": [],
   "source": [
    "def evaluate(sess,X,Y):\n",
    "    print(sess.run(interference([[80.,25.]])))\n",
    "    print(sess.run(interference([[65.,25.]])))"
   ]
  },
  {
   "cell_type": "code",
   "execution_count": 10,
   "metadata": {},
   "outputs": [
    {
     "name": "stdout",
     "output_type": "stream",
     "text": [
      "loss:  [7432051.5]\n",
      "loss:  [5303053.5]\n",
      "loss:  [5300057.5]\n",
      "loss:  [5297796.0]\n",
      "loss:  [5296082.5]\n",
      "loss:  [5294775.0]\n",
      "loss:  [5293773.5]\n",
      "loss:  [5292997.0]\n",
      "loss:  [5292390.5]\n",
      "loss:  [5291908.5]\n",
      "loss:  [5291520.5]\n",
      "loss:  [5291203.0]\n",
      "loss:  [5290938.0]\n",
      "loss:  [5290709.5]\n",
      "loss:  [5290511.5]\n",
      "loss:  [5290334.5]\n",
      "loss:  [5290174.5]\n",
      "loss:  [5290025.5]\n",
      "loss:  [5289886.0]\n",
      "loss:  [5289752.5]\n",
      "loss:  [5289625.0]\n",
      "loss:  [5289500.5]\n",
      "loss:  [5289379.5]\n",
      "loss:  [5289258.5]\n",
      "loss:  [5289142.5]\n",
      "loss:  [5289023.5]\n",
      "loss:  [5288908.0]\n",
      "loss:  [5288792.0]\n",
      "loss:  [5288677.0]\n",
      "loss:  [5288562.5]\n",
      "loss:  [5288449.0]\n",
      "loss:  [5288334.0]\n",
      "loss:  [5288220.5]\n",
      "loss:  [5288106.5]\n",
      "loss:  [5287992.0]\n",
      "loss:  [5287880.0]\n",
      "loss:  [5287765.0]\n",
      "loss:  [5287650.5]\n",
      "loss:  [5287537.5]\n",
      "loss:  [5287423.5]\n",
      "loss:  [5287310.5]\n",
      "loss:  [5287197.5]\n",
      "loss:  [5287085.0]\n",
      "loss:  [5286971.0]\n",
      "loss:  [5286856.5]\n",
      "loss:  [5286742.5]\n",
      "loss:  [5286628.5]\n",
      "loss:  [5286516.5]\n",
      "loss:  [5286403.5]\n",
      "loss:  [5286288.5]\n",
      "loss:  [5286176.0]\n",
      "loss:  [5286062.5]\n",
      "loss:  [5285948.5]\n",
      "loss:  [5285835.0]\n",
      "loss:  [5285722.0]\n",
      "loss:  [5285608.0]\n",
      "loss:  [5285495.5]\n",
      "loss:  [5285382.5]\n",
      "loss:  [5285268.5]\n",
      "loss:  [5285155.0]\n",
      "loss:  [5285042.5]\n",
      "loss:  [5284928.0]\n",
      "loss:  [5284814.5]\n",
      "loss:  [5284701.5]\n",
      "loss:  [5284588.5]\n",
      "loss:  [5284475.0]\n",
      "loss:  [5284363.0]\n",
      "loss:  [5284248.5]\n",
      "loss:  [5284135.0]\n",
      "loss:  [5284020.5]\n",
      "loss:  [5283907.5]\n",
      "loss:  [5283795.5]\n",
      "loss:  [5283682.5]\n",
      "loss:  [5283567.0]\n",
      "loss:  [5283455.5]\n",
      "loss:  [5283341.5]\n",
      "loss:  [5283229.0]\n",
      "loss:  [5283115.0]\n",
      "loss:  [5283003.0]\n",
      "loss:  [5282889.5]\n",
      "loss:  [5282776.0]\n",
      "loss:  [5282663.0]\n",
      "loss:  [5282550.0]\n",
      "loss:  [5282436.5]\n",
      "loss:  [5282323.5]\n",
      "loss:  [5282210.5]\n",
      "loss:  [5282097.0]\n",
      "loss:  [5281983.5]\n",
      "loss:  [5281871.5]\n",
      "loss:  [5281758.0]\n",
      "loss:  [5281643.5]\n",
      "loss:  [5281531.5]\n",
      "loss:  [5281418.5]\n",
      "loss:  [5281304.5]\n",
      "loss:  [5281192.0]\n",
      "loss:  [5281078.0]\n",
      "loss:  [5280965.0]\n",
      "loss:  [5280852.0]\n",
      "loss:  [5280739.0]\n",
      "loss:  [5280627.0]\n",
      "[[319.9936]]\n",
      "[[267.12512]]\n"
     ]
    }
   ],
   "source": [
    "with tf.Session() as sess:\n",
    "    tf.global_variables_initializer().run()\n",
    "    \n",
    "    X,Y = inputs()\n",
    "    \n",
    "    total_loss = loss(X,Y)\n",
    "    train_op = train(total_loss)\n",
    "    \n",
    "    coord = tf.train.Coordinator()\n",
    "    threads = tf.train.start_queue_runners(sess=sess,coord=coord)\n",
    "    \n",
    "    training_steps = 1000\n",
    "    for step in range(training_steps):\n",
    "        sess.run([train_op])\n",
    "        if step % 10 == 0:\n",
    "            print(\"loss: \",sess.run([total_loss]))\n",
    "        \n",
    "    evaluate(sess,X,Y)\n",
    "        \n",
    "    coord.request_stop()\n",
    "    coord.join(threads)\n",
    "        \n",
    "    sess.close()"
   ]
  },
  {
   "cell_type": "code",
   "execution_count": null,
   "metadata": {},
   "outputs": [],
   "source": []
  }
 ],
 "metadata": {
  "kernelspec": {
   "display_name": "Python 3",
   "language": "python",
   "name": "python3"
  },
  "language_info": {
   "codemirror_mode": {
    "name": "ipython",
    "version": 3
   },
   "file_extension": ".py",
   "mimetype": "text/x-python",
   "name": "python",
   "nbconvert_exporter": "python",
   "pygments_lexer": "ipython3",
   "version": "3.7.0"
  }
 },
 "nbformat": 4,
 "nbformat_minor": 2
}
